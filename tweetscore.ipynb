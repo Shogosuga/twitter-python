{
 "cells": [
  {
   "cell_type": "code",
   "execution_count": 1,
   "metadata": {},
   "outputs": [],
   "source": [
    "import datetime \n",
    "import tweepy\n",
    "from pymongo import MongoClient\n",
    "\n",
    "client = MongoClient('localhost' , 27017)\n",
    "db = client['tweet_database']\n",
    "collection = db['tweet_collection']\n",
    "\n",
    "CONSUMER_KEY = '8qqYKpCmhHz12maFnAZtH1Tiq'\n",
    "CONSUMER_SECRET = 'OVsabb6XA6wXSBwcBrgjb5ZkZbRDkgoEfo3qRHlNygbDrFoPGk'\n",
    "ACCESS_TOKEN = '1430529673-8DKgzTYLxQJSsNl3R4cr7ojFagvGHXgWG4K3oEw'\n",
    "ACCESS_SECRET = 'Y1twCN883RURgdR1BZmRbMEvbHmlZ851eO42BAzvWNCaE'\n",
    "\n",
    "auth = tweepy.OAuthHandler(CONSUMER_KEY, CONSUMER_SECRET)\n",
    "auth.set_access_token(ACCESS_TOKEN, ACCESS_SECRET)\n",
    "api = tweepy.API(auth)"
   ]
  },
  {
   "cell_type": "code",
   "execution_count": 2,
   "metadata": {},
   "outputs": [],
   "source": [
    "screen_name = \"ryuu_yrrrr\""
   ]
  },
  {
   "cell_type": "code",
   "execution_count": 3,
   "metadata": {},
   "outputs": [],
   "source": [
    "def extract_tweets_data(screen_name):\n",
    "    tweet_data=[]\n",
    "    for tweet in tweepy.Cursor(api.user_timeline,screen_name,exclude_replies = True).items():\n",
    "          tweet_information = {\"tweet_id\"               :tweet.id,\n",
    "                                                \"time\"                       : tweet.created_at ,\n",
    "                                                \"text\"                        : tweet.text.replace('/n','') ,\n",
    "                                                \"number_favorite\"  : str(tweet.favorite_count) ,\n",
    "                                                \"number_retweet\"  : str(tweet.retweet_count) }\n",
    "          collection.insert_one(tweet_information)\n",
    "extract_tweets_data(screen_name)"
   ]
  },
  {
   "cell_type": "code",
   "execution_count": null,
   "metadata": {},
   "outputs": [],
   "source": [
    "print(collection.find_one())"
   ]
  },
  {
   "cell_type": "code",
   "execution_count": null,
   "metadata": {},
   "outputs": [],
   "source": []
  }
 ],
 "metadata": {
  "kernelspec": {
   "display_name": "Python 3",
   "language": "python",
   "name": "python3"
  },
  "language_info": {
   "codemirror_mode": {
    "name": "ipython",
    "version": 3
   },
   "file_extension": ".py",
   "mimetype": "text/x-python",
   "name": "python",
   "nbconvert_exporter": "python",
   "pygments_lexer": "ipython3",
   "version": "3.7.0"
  }
 },
 "nbformat": 4,
 "nbformat_minor": 2
}
